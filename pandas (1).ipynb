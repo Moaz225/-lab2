{
 "cells": [
  {
   "cell_type": "markdown",
   "id": "64d44da9-558f-4634-9de8-de0f46f93cfe",
   "metadata": {},
   "source": [
    "## Часть 1: Введение в Pandas\n",
    "\n",
    "Pandas - это библиотека Python для работы с данными. Она предоставляет мощные инструменты для анализа и манипуляции данными.\n",
    "\n",
    "### Установка Pandas\n",
    "\n",
    "Для начала убедитесь, что у вас установлена библиотека Pandas. Если ее нет, установите ее с помощью команды:\n"
   ]
  },
  {
   "cell_type": "code",
   "execution_count": 31,
   "id": "7484df51-b002-414c-ae42-75a2df57c78d",
   "metadata": {},
   "outputs": [
    {
     "name": "stdout",
     "output_type": "stream",
     "text": [
      "Requirement already satisfied: pandas in c:\\users\\tech\\appdata\\local\\programs\\python\\python311\\lib\\site-packages (2.2.2)\n",
      "Requirement already satisfied: numpy>=1.23.2 in c:\\users\\tech\\appdata\\local\\programs\\python\\python311\\lib\\site-packages (from pandas) (1.26.4)\n",
      "Requirement already satisfied: python-dateutil>=2.8.2 in c:\\users\\tech\\appdata\\local\\programs\\python\\python311\\lib\\site-packages (from pandas) (2.9.0.post0)\n",
      "Requirement already satisfied: pytz>=2020.1 in c:\\users\\tech\\appdata\\local\\programs\\python\\python311\\lib\\site-packages (from pandas) (2024.1)\n",
      "Requirement already satisfied: tzdata>=2022.7 in c:\\users\\tech\\appdata\\local\\programs\\python\\python311\\lib\\site-packages (from pandas) (2024.1)\n",
      "Requirement already satisfied: six>=1.5 in c:\\users\\tech\\appdata\\local\\programs\\python\\python311\\lib\\site-packages (from python-dateutil>=2.8.2->pandas) (1.16.0)\n"
     ]
    }
   ],
   "source": [
    "!pip install pandas"
   ]
  },
  {
   "cell_type": "markdown",
   "id": "4b655e29-c3a5-4117-9860-2d6b9af62ac1",
   "metadata": {},
   "source": [
    "## Импорт библиотеки\n",
    "Давайте начнем с импорта библиотеки Pandas:"
   ]
  },
  {
   "cell_type": "code",
   "execution_count": 1,
   "id": "bfc3346f-3843-4aff-aec0-54321b9774f0",
   "metadata": {
    "tags": []
   },
   "outputs": [],
   "source": [
    "import pandas as pd\n"
   ]
  },
  {
   "cell_type": "markdown",
   "id": "ea8530e9-c179-48c1-8043-ff87f415ee67",
   "metadata": {},
   "source": [
    "## Часть 2: Работа с данными\n",
    "### Чтение данных\n",
    "Мы будем использовать датасет Titanic. Давайте прочитаем данные из CSV файла."
   ]
  },
  {
   "cell_type": "code",
   "execution_count": 10,
   "id": "fa5deec6-c85e-4d88-89df-bea7d75fcbba",
   "metadata": {},
   "outputs": [
    {
     "name": "stdout",
     "output_type": "stream",
     "text": [
      "   PassengerId  Survived  Pclass  \\\n",
      "0            1         0       3   \n",
      "1            2         1       1   \n",
      "2            3         1       3   \n",
      "3            4         1       1   \n",
      "4            5         0       3   \n",
      "\n",
      "                                                Name     Sex   Age  SibSp  \\\n",
      "0                            Braund, Mr. Owen Harris    male  22.0      1   \n",
      "1  Cumings, Mrs. John Bradley (Florence Briggs Th...  female  38.0      1   \n",
      "2                             Heikkinen, Miss. Laina  female  26.0      0   \n",
      "3       Futrelle, Mrs. Jacques Heath (Lily May Peel)  female  35.0      1   \n",
      "4                           Allen, Mr. William Henry    male  35.0      0   \n",
      "\n",
      "   Parch            Ticket     Fare Cabin Embarked  \n",
      "0      0         A/5 21171   7.2500   NaN        S  \n",
      "1      0          PC 17599  71.2833   C85        C  \n",
      "2      0  STON/O2. 3101282   7.9250   NaN        S  \n",
      "3      0            113803  53.1000  C123        S  \n",
      "4      0            373450   8.0500   NaN        S  \n"
     ]
    }
   ],
   "source": [
    "import pandas as pd\n",
    "\n",
    "df = pd.read_csv('titanic (2).csv')\n",
    "print(df.head())\n"
   ]
  },
  {
   "cell_type": "markdown",
   "id": "07dfd488-4960-495e-80d8-9cf5903449b6",
   "metadata": {},
   "source": [
    "### Предпросмотр данных\n",
    "Для первого ознакомления с данными давайте выведем первые несколько строк."
   ]
  },
  {
   "cell_type": "code",
   "execution_count": 12,
   "id": "216e104c-259f-4ecd-9cd4-40362f61ca4e",
   "metadata": {},
   "outputs": [
    {
     "data": {
      "text/html": [
       "<div>\n",
       "<style scoped>\n",
       "    .dataframe tbody tr th:only-of-type {\n",
       "        vertical-align: middle;\n",
       "    }\n",
       "\n",
       "    .dataframe tbody tr th {\n",
       "        vertical-align: top;\n",
       "    }\n",
       "\n",
       "    .dataframe thead th {\n",
       "        text-align: right;\n",
       "    }\n",
       "</style>\n",
       "<table border=\"1\" class=\"dataframe\">\n",
       "  <thead>\n",
       "    <tr style=\"text-align: right;\">\n",
       "      <th></th>\n",
       "      <th>PassengerId</th>\n",
       "      <th>Survived</th>\n",
       "      <th>Pclass</th>\n",
       "      <th>Name</th>\n",
       "      <th>Sex</th>\n",
       "      <th>Age</th>\n",
       "      <th>SibSp</th>\n",
       "      <th>Parch</th>\n",
       "      <th>Ticket</th>\n",
       "      <th>Fare</th>\n",
       "      <th>Cabin</th>\n",
       "      <th>Embarked</th>\n",
       "    </tr>\n",
       "  </thead>\n",
       "  <tbody>\n",
       "    <tr>\n",
       "      <th>0</th>\n",
       "      <td>1</td>\n",
       "      <td>0</td>\n",
       "      <td>3</td>\n",
       "      <td>Braund, Mr. Owen Harris</td>\n",
       "      <td>male</td>\n",
       "      <td>22.0</td>\n",
       "      <td>1</td>\n",
       "      <td>0</td>\n",
       "      <td>A/5 21171</td>\n",
       "      <td>7.2500</td>\n",
       "      <td>NaN</td>\n",
       "      <td>S</td>\n",
       "    </tr>\n",
       "    <tr>\n",
       "      <th>1</th>\n",
       "      <td>2</td>\n",
       "      <td>1</td>\n",
       "      <td>1</td>\n",
       "      <td>Cumings, Mrs. John Bradley (Florence Briggs Th...</td>\n",
       "      <td>female</td>\n",
       "      <td>38.0</td>\n",
       "      <td>1</td>\n",
       "      <td>0</td>\n",
       "      <td>PC 17599</td>\n",
       "      <td>71.2833</td>\n",
       "      <td>C85</td>\n",
       "      <td>C</td>\n",
       "    </tr>\n",
       "    <tr>\n",
       "      <th>2</th>\n",
       "      <td>3</td>\n",
       "      <td>1</td>\n",
       "      <td>3</td>\n",
       "      <td>Heikkinen, Miss. Laina</td>\n",
       "      <td>female</td>\n",
       "      <td>26.0</td>\n",
       "      <td>0</td>\n",
       "      <td>0</td>\n",
       "      <td>STON/O2. 3101282</td>\n",
       "      <td>7.9250</td>\n",
       "      <td>NaN</td>\n",
       "      <td>S</td>\n",
       "    </tr>\n",
       "    <tr>\n",
       "      <th>3</th>\n",
       "      <td>4</td>\n",
       "      <td>1</td>\n",
       "      <td>1</td>\n",
       "      <td>Futrelle, Mrs. Jacques Heath (Lily May Peel)</td>\n",
       "      <td>female</td>\n",
       "      <td>35.0</td>\n",
       "      <td>1</td>\n",
       "      <td>0</td>\n",
       "      <td>113803</td>\n",
       "      <td>53.1000</td>\n",
       "      <td>C123</td>\n",
       "      <td>S</td>\n",
       "    </tr>\n",
       "    <tr>\n",
       "      <th>4</th>\n",
       "      <td>5</td>\n",
       "      <td>0</td>\n",
       "      <td>3</td>\n",
       "      <td>Allen, Mr. William Henry</td>\n",
       "      <td>male</td>\n",
       "      <td>35.0</td>\n",
       "      <td>0</td>\n",
       "      <td>0</td>\n",
       "      <td>373450</td>\n",
       "      <td>8.0500</td>\n",
       "      <td>NaN</td>\n",
       "      <td>S</td>\n",
       "    </tr>\n",
       "    <tr>\n",
       "      <th>5</th>\n",
       "      <td>6</td>\n",
       "      <td>0</td>\n",
       "      <td>3</td>\n",
       "      <td>Moran, Mr. James</td>\n",
       "      <td>male</td>\n",
       "      <td>NaN</td>\n",
       "      <td>0</td>\n",
       "      <td>0</td>\n",
       "      <td>330877</td>\n",
       "      <td>8.4583</td>\n",
       "      <td>NaN</td>\n",
       "      <td>Q</td>\n",
       "    </tr>\n",
       "    <tr>\n",
       "      <th>6</th>\n",
       "      <td>7</td>\n",
       "      <td>0</td>\n",
       "      <td>1</td>\n",
       "      <td>McCarthy, Mr. Timothy J</td>\n",
       "      <td>male</td>\n",
       "      <td>54.0</td>\n",
       "      <td>0</td>\n",
       "      <td>0</td>\n",
       "      <td>17463</td>\n",
       "      <td>51.8625</td>\n",
       "      <td>E46</td>\n",
       "      <td>S</td>\n",
       "    </tr>\n",
       "    <tr>\n",
       "      <th>7</th>\n",
       "      <td>8</td>\n",
       "      <td>0</td>\n",
       "      <td>3</td>\n",
       "      <td>Palsson, Master. Gosta Leonard</td>\n",
       "      <td>male</td>\n",
       "      <td>2.0</td>\n",
       "      <td>3</td>\n",
       "      <td>1</td>\n",
       "      <td>349909</td>\n",
       "      <td>21.0750</td>\n",
       "      <td>NaN</td>\n",
       "      <td>S</td>\n",
       "    </tr>\n",
       "    <tr>\n",
       "      <th>8</th>\n",
       "      <td>9</td>\n",
       "      <td>1</td>\n",
       "      <td>3</td>\n",
       "      <td>Johnson, Mrs. Oscar W (Elisabeth Vilhelmina Berg)</td>\n",
       "      <td>female</td>\n",
       "      <td>27.0</td>\n",
       "      <td>0</td>\n",
       "      <td>2</td>\n",
       "      <td>347742</td>\n",
       "      <td>11.1333</td>\n",
       "      <td>NaN</td>\n",
       "      <td>S</td>\n",
       "    </tr>\n",
       "    <tr>\n",
       "      <th>9</th>\n",
       "      <td>10</td>\n",
       "      <td>1</td>\n",
       "      <td>2</td>\n",
       "      <td>Nasser, Mrs. Nicholas (Adele Achem)</td>\n",
       "      <td>female</td>\n",
       "      <td>14.0</td>\n",
       "      <td>1</td>\n",
       "      <td>0</td>\n",
       "      <td>237736</td>\n",
       "      <td>30.0708</td>\n",
       "      <td>NaN</td>\n",
       "      <td>C</td>\n",
       "    </tr>\n",
       "  </tbody>\n",
       "</table>\n",
       "</div>"
      ],
      "text/plain": [
       "   PassengerId  Survived  Pclass  \\\n",
       "0            1         0       3   \n",
       "1            2         1       1   \n",
       "2            3         1       3   \n",
       "3            4         1       1   \n",
       "4            5         0       3   \n",
       "5            6         0       3   \n",
       "6            7         0       1   \n",
       "7            8         0       3   \n",
       "8            9         1       3   \n",
       "9           10         1       2   \n",
       "\n",
       "                                                Name     Sex   Age  SibSp  \\\n",
       "0                            Braund, Mr. Owen Harris    male  22.0      1   \n",
       "1  Cumings, Mrs. John Bradley (Florence Briggs Th...  female  38.0      1   \n",
       "2                             Heikkinen, Miss. Laina  female  26.0      0   \n",
       "3       Futrelle, Mrs. Jacques Heath (Lily May Peel)  female  35.0      1   \n",
       "4                           Allen, Mr. William Henry    male  35.0      0   \n",
       "5                                   Moran, Mr. James    male   NaN      0   \n",
       "6                            McCarthy, Mr. Timothy J    male  54.0      0   \n",
       "7                     Palsson, Master. Gosta Leonard    male   2.0      3   \n",
       "8  Johnson, Mrs. Oscar W (Elisabeth Vilhelmina Berg)  female  27.0      0   \n",
       "9                Nasser, Mrs. Nicholas (Adele Achem)  female  14.0      1   \n",
       "\n",
       "   Parch            Ticket     Fare Cabin Embarked  \n",
       "0      0         A/5 21171   7.2500   NaN        S  \n",
       "1      0          PC 17599  71.2833   C85        C  \n",
       "2      0  STON/O2. 3101282   7.9250   NaN        S  \n",
       "3      0            113803  53.1000  C123        S  \n",
       "4      0            373450   8.0500   NaN        S  \n",
       "5      0            330877   8.4583   NaN        Q  \n",
       "6      0             17463  51.8625   E46        S  \n",
       "7      1            349909  21.0750   NaN        S  \n",
       "8      2            347742  11.1333   NaN        S  \n",
       "9      0            237736  30.0708   NaN        C  "
      ]
     },
     "execution_count": 12,
     "metadata": {},
     "output_type": "execute_result"
    }
   ],
   "source": [
    "df.head(10)  # покажет 10 первых строк\n"
   ]
  },
  {
   "cell_type": "markdown",
   "id": "b7ba5f57-07e1-4c0f-9b55-9d78638ee2cc",
   "metadata": {},
   "source": [
    "### Информация о данных\n",
    "Чтобы получить общую информацию о данных, воспользуйтесь методом .info()."
   ]
  },
  {
   "cell_type": "code",
   "execution_count": 13,
   "id": "43650b4f-f3e7-4480-b874-b5552f564383",
   "metadata": {},
   "outputs": [
    {
     "name": "stdout",
     "output_type": "stream",
     "text": [
      "<class 'pandas.core.frame.DataFrame'>\n",
      "RangeIndex: 891 entries, 0 to 890\n",
      "Data columns (total 12 columns):\n",
      " #   Column       Non-Null Count  Dtype  \n",
      "---  ------       --------------  -----  \n",
      " 0   PassengerId  891 non-null    int64  \n",
      " 1   Survived     891 non-null    int64  \n",
      " 2   Pclass       891 non-null    int64  \n",
      " 3   Name         891 non-null    object \n",
      " 4   Sex          891 non-null    object \n",
      " 5   Age          714 non-null    float64\n",
      " 6   SibSp        891 non-null    int64  \n",
      " 7   Parch        891 non-null    int64  \n",
      " 8   Ticket       891 non-null    object \n",
      " 9   Fare         891 non-null    float64\n",
      " 10  Cabin        204 non-null    object \n",
      " 11  Embarked     889 non-null    object \n",
      "dtypes: float64(2), int64(5), object(5)\n",
      "memory usage: 83.7+ KB\n"
     ]
    }
   ],
   "source": [
    "df.info()\n"
   ]
  },
  {
   "cell_type": "markdown",
   "id": "a6857118-a82e-4586-a933-4eb0df9cb74e",
   "metadata": {},
   "source": [
    "### Работа с NaN\n",
    "Часто данные содержат пропущенные значения, которые представляются как NaN (Not a Number). Pandas предоставляет удобные методы для работы с ними.\n",
    "\n",
    "Проверка на наличие NaN. Методы fillna и dropna возвращают новые Dataframe, проверьте нет ли в них NaN"
   ]
  },
  {
   "cell_type": "code",
   "execution_count": 14,
   "id": "f7910fde-24f7-4cf8-991d-01f08bc45b63",
   "metadata": {
    "tags": []
   },
   "outputs": [
    {
     "name": "stdout",
     "output_type": "stream",
     "text": [
      "PassengerId      0\n",
      "Survived         0\n",
      "Pclass           0\n",
      "Name             0\n",
      "Sex              0\n",
      "Age            177\n",
      "SibSp            0\n",
      "Parch            0\n",
      "Ticket           0\n",
      "Fare             0\n",
      "Cabin          687\n",
      "Embarked         2\n",
      "dtype: int64\n"
     ]
    }
   ],
   "source": [
    "print(df.isna().sum())\n"
   ]
  },
  {
   "cell_type": "markdown",
   "id": "1dadeaf7-e214-4552-b054-8e4a03714f72",
   "metadata": {},
   "source": [
    "Заполнение NaN"
   ]
  },
  {
   "cell_type": "code",
   "execution_count": 17,
   "id": "7d901187-75a9-497e-8774-6e0dde584197",
   "metadata": {},
   "outputs": [],
   "source": [
    "# Заполнение NaN нулями\n",
    "df_filled = df.fillna(0)\n"
   ]
  },
  {
   "cell_type": "markdown",
   "id": "6f32fddb-ec60-456b-8958-5c81b0357d49",
   "metadata": {},
   "source": [
    "Удаление строк с NaN"
   ]
  },
  {
   "cell_type": "code",
   "execution_count": 18,
   "id": "4d188deb-0818-4b01-b3a5-9d20d2166d10",
   "metadata": {
    "tags": []
   },
   "outputs": [],
   "source": [
    "# Удаление строк с пропущенными значениями\n",
    "df_cleaned = df.dropna()\n"
   ]
  },
  {
   "cell_type": "markdown",
   "id": "7a4ff131-1593-4cd2-b2bc-e0ddb2442d3b",
   "metadata": {},
   "source": [
    "## Часть 3: Обработка DataFrame\n",
    "### Выбор данных\n",
    "Pandas позволяет выбирать данные по индексам, меткам столбцов и условиям."
   ]
  },
  {
   "cell_type": "code",
   "execution_count": null,
   "id": "d11f6114-ce4b-4e71-afec-adf1d8c1ec6e",
   "metadata": {
    "tags": []
   },
   "outputs": [
    {
     "name": "stdout",
     "output_type": "stream",
     "text": [
      "Столбец 'Age':\n",
      "0    22.0\n",
      "1    38.0\n",
      "2    26.0\n",
      "3    35.0\n",
      "4    35.0\n",
      "Name: Age, dtype: float64\n",
      "\n",
      "Столбцы 'Age' и 'Sex':\n",
      "    Age     Sex\n",
      "0  22.0    male\n",
      "1  38.0  female\n",
      "2  26.0  female\n",
      "3  35.0  female\n",
      "4  35.0    male\n",
      "\n",
      "Строка с индексом 5:\n",
      "PassengerId                   6\n",
      "Survived                      0\n",
      "Pclass                        3\n",
      "Name           Moran, Mr. James\n",
      "Sex                        male\n",
      "Age                         0.0\n",
      "SibSp                         0\n",
      "Parch                         0\n",
      "Ticket                   330877\n",
      "Fare                     8.4583\n",
      "Cabin                         0\n",
      "Embarked                      Q\n",
      "Name: 5, dtype: object\n",
      "\n",
      "Мужчины старше 30:\n",
      "    PassengerId  Survived  Pclass                         Name   Sex   Age  \\\n",
      "4             5         0       3     Allen, Mr. William Henry  male  35.0   \n",
      "6             7         0       1      McCarthy, Mr. Timothy J  male  54.0   \n",
      "13           14         0       3  Andersson, Mr. Anders Johan  male  39.0   \n",
      "20           21         0       2         Fynney, Mr. Joseph J  male  35.0   \n",
      "21           22         1       2        Beesley, Mr. Lawrence  male  34.0   \n",
      "\n",
      "    SibSp  Parch  Ticket     Fare Cabin Embarked  \n",
      "4       0      0  373450   8.0500     0        S  \n",
      "6       0      0   17463  51.8625   E46        S  \n",
      "13      1      5  347082  31.2750     0        S  \n",
      "20      0      0  239865  26.0000     0        S  \n",
      "21      0      0  248698  13.0000   D56        S  \n"
     ]
    }
   ],
   "source": [
    "import pandas as pd\n",
    "\n",
    "# Загрузка данных\n",
    "df = pd.read_csv('titanic (2).csv')  # Укажи путь, если файл в другом месте\n",
    "df = df.fillna(0)  # Заполнение пропущенных значений нулями для стабильной работы\n",
    "\n",
    "# --- Выбор данных ---\n",
    "\n",
    "# Выбор столбца по метке\n",
    "age_column = df['Age']\n",
    "print(\"Столбец 'Age':\")\n",
    "print(age_column.head())\n",
    "\n",
    "#  Выбор нескольких столбцов\n",
    "selected_columns = df[['Age', 'Sex']]\n",
    "print(\"\\nСтолбцы 'Age' и 'Sex':\")\n",
    "print(selected_columns.head())\n",
    "\n",
    "#  Выбор строк по индексу\n",
    "row_by_index = df.loc[5]\n",
    "print(\"\\nСтрока с индексом 5:\")\n",
    "print(row_by_index)\n",
    "\n",
    "#  Выбор строк и столбцов по условию — мужчины старше 30 лет\n",
    "men_over_30 = df[(df['Sex'] == 'male') & (df['Age'] > 30)]\n",
    "print(\"\\nМужчины старше 30:\")\n",
    "print(men_over_30.head())\n"
   ]
  },
  {
   "cell_type": "markdown",
   "id": "f3102de8-d2fd-4593-bf26-721316ae51e9",
   "metadata": {},
   "source": [
    "### Сортировка данных\n",
    "Сортировка данных по значениям столбцов."
   ]
  },
  {
   "cell_type": "code",
   "execution_count": 22,
   "id": "de5e850c-e920-4ae4-aadb-3f1953438b09",
   "metadata": {
    "tags": []
   },
   "outputs": [],
   "source": [
    "# Сортировка данных по столбцу 'Age' по возрастанию\n",
    "df_sorted = df.sort_values(by='Age')\n"
   ]
  },
  {
   "cell_type": "markdown",
   "id": "eab3cd85-5e96-4228-8834-9ef53b93689a",
   "metadata": {},
   "source": [
    "### Группировка данных\n",
    "Pandas также позволяет группировать данные и выполнять агрегирующие операции."
   ]
  },
  {
   "cell_type": "code",
   "execution_count": 25,
   "id": "25ced901-0482-49a8-8c12-d192e84e3fb3",
   "metadata": {
    "tags": []
   },
   "outputs": [
    {
     "name": "stdout",
     "output_type": "stream",
     "text": [
      "Pclass\n",
      "1    0.629630\n",
      "2    0.472826\n",
      "3    0.242363\n",
      "Name: Survived, dtype: float64\n"
     ]
    }
   ],
   "source": [
    "# Группировка по классу и вычисление доли выживших\n",
    "survival_rate = df.groupby('Pclass')['Survived'].mean()\n",
    "\n",
    "print(survival_rate)\n"
   ]
  },
  {
   "cell_type": "markdown",
   "id": "d0355db7-7bf9-46d1-ad51-5f2eddc42501",
   "metadata": {},
   "source": [
    "## Часть 4: Задания для практики\n",
    "Прочитайте данные из файла 'titanic.csv'.\n",
    "Проверьте, есть ли пропущенные значения в данных и заполните их нулями.\n",
    "Выведите первые 10 строк данных.\n",
    "Выберите только те строки, где значение в столбце 'Age' больше 30.\n",
    "Отсортируйте данные по столбцу 'Fare' в порядке убывания.\n",
    "Сгруппируйте данные по столбцу 'Pclass' и вычислите средний возраст ('Age') для каждого класса."
   ]
  },
  {
   "cell_type": "code",
   "execution_count": 27,
   "id": "a1b4deaa-cd06-41b3-8084-5c2d3a867811",
   "metadata": {},
   "outputs": [
    {
     "name": "stdout",
     "output_type": "stream",
     "text": [
      "Пропущенные значения до заполнения:\n",
      "PassengerId      0\n",
      "Survived         0\n",
      "Pclass           0\n",
      "Name             0\n",
      "Sex              0\n",
      "Age            177\n",
      "SibSp            0\n",
      "Parch            0\n",
      "Ticket           0\n",
      "Fare             0\n",
      "Cabin          687\n",
      "Embarked         2\n",
      "dtype: int64\n",
      "\n",
      "Первые 10 строк после заполнения NaN:\n",
      "   PassengerId  Survived  Pclass  \\\n",
      "0            1         0       3   \n",
      "1            2         1       1   \n",
      "2            3         1       3   \n",
      "3            4         1       1   \n",
      "4            5         0       3   \n",
      "5            6         0       3   \n",
      "6            7         0       1   \n",
      "7            8         0       3   \n",
      "8            9         1       3   \n",
      "9           10         1       2   \n",
      "\n",
      "                                                Name     Sex   Age  SibSp  \\\n",
      "0                            Braund, Mr. Owen Harris    male  22.0      1   \n",
      "1  Cumings, Mrs. John Bradley (Florence Briggs Th...  female  38.0      1   \n",
      "2                             Heikkinen, Miss. Laina  female  26.0      0   \n",
      "3       Futrelle, Mrs. Jacques Heath (Lily May Peel)  female  35.0      1   \n",
      "4                           Allen, Mr. William Henry    male  35.0      0   \n",
      "5                                   Moran, Mr. James    male   0.0      0   \n",
      "6                            McCarthy, Mr. Timothy J    male  54.0      0   \n",
      "7                     Palsson, Master. Gosta Leonard    male   2.0      3   \n",
      "8  Johnson, Mrs. Oscar W (Elisabeth Vilhelmina Berg)  female  27.0      0   \n",
      "9                Nasser, Mrs. Nicholas (Adele Achem)  female  14.0      1   \n",
      "\n",
      "   Parch            Ticket     Fare Cabin Embarked  \n",
      "0      0         A/5 21171   7.2500     0        S  \n",
      "1      0          PC 17599  71.2833   C85        C  \n",
      "2      0  STON/O2. 3101282   7.9250     0        S  \n",
      "3      0            113803  53.1000  C123        S  \n",
      "4      0            373450   8.0500     0        S  \n",
      "5      0            330877   8.4583     0        Q  \n",
      "6      0             17463  51.8625   E46        S  \n",
      "7      1            349909  21.0750     0        S  \n",
      "8      2            347742  11.1333     0        S  \n",
      "9      0            237736  30.0708     0        C  \n",
      "\n",
      "Пассажиры старше 30, отсортированные по стоимости билета:\n",
      "     PassengerId  Survived  Pclass  \\\n",
      "258          259         1       1   \n",
      "679          680         1       1   \n",
      "737          738         1       1   \n",
      "438          439         0       1   \n",
      "299          300         1       1   \n",
      "\n",
      "                                                Name     Sex   Age  SibSp  \\\n",
      "258                                 Ward, Miss. Anna  female  35.0      0   \n",
      "679               Cardeza, Mr. Thomas Drake Martinez    male  36.0      0   \n",
      "737                           Lesurer, Mr. Gustave J    male  35.0      0   \n",
      "438                                Fortune, Mr. Mark    male  64.0      1   \n",
      "299  Baxter, Mrs. James (Helene DeLaudeniere Chaput)  female  50.0      0   \n",
      "\n",
      "     Parch    Ticket      Fare        Cabin Embarked  \n",
      "258      0  PC 17755  512.3292            0        C  \n",
      "679      1  PC 17755  512.3292  B51 B53 B55        C  \n",
      "737      0  PC 17755  512.3292         B101        C  \n",
      "438      4     19950  263.0000  C23 C25 C27        S  \n",
      "299      1  PC 17558  247.5208      B58 B60        C  \n",
      "\n",
      "Средний возраст пассажиров по классам:\n",
      "Pclass\n",
      "1    32.923241\n",
      "2    28.091467\n",
      "3    18.177026\n",
      "Name: Age, dtype: float64\n"
     ]
    }
   ],
   "source": [
    "import pandas as pd\n",
    "\n",
    "# 1. Прочитать данные из файла\n",
    "df = pd.read_csv('titanic (2).csv')  # Укажи корректный путь к файлу, если он в другом месте\n",
    "\n",
    "# 2. Проверить наличие пропущенных значений и заполнить их нулями\n",
    "print(\"Пропущенные значения до заполнения:\")\n",
    "print(df.isna().sum())\n",
    "df = df.fillna(0)  # Заполнение всех NaN нулями\n",
    "\n",
    "# 3. Вывести первые 10 строк\n",
    "print(\"\\nПервые 10 строк после заполнения NaN:\")\n",
    "print(df.head(10))\n",
    "\n",
    "# 4. Выбрать строки, где 'Age' > 30\n",
    "df_age_above_30 = df[df['Age'] > 30]\n",
    "\n",
    "# 5. Отсортировать данные по 'Fare' в порядке убывания\n",
    "df_sorted = df_age_above_30.sort_values(by='Fare', ascending=False)\n",
    "\n",
    "# Показать отсортированные строки (необязательно, просто для просмотра)\n",
    "print(\"\\nПассажиры старше 30, отсортированные по стоимости билета:\")\n",
    "print(df_sorted.head())\n",
    "\n",
    "# 6. Сгруппировать по 'Pclass' и вычислить средний возраст\n",
    "# 6. Сгруппировать по 'Pclass' и вычислить средний возраст\n",
    "avg_age_per_class = df.groupby('Pclass')['Age'].mean()\n",
    "print(\"\\nСредний возраст пассажиров по классам:\")\n",
    "print(avg_age_per_class)\n"
   ]
  }
 ],
 "metadata": {
  "kernelspec": {
   "display_name": "Python 3",
   "language": "python",
   "name": "python3"
  },
  "language_info": {
   "codemirror_mode": {
    "name": "ipython",
    "version": 3
   },
   "file_extension": ".py",
   "mimetype": "text/x-python",
   "name": "python",
   "nbconvert_exporter": "python",
   "pygments_lexer": "ipython3",
   "version": "3.11.5"
  }
 },
 "nbformat": 4,
 "nbformat_minor": 5
}
